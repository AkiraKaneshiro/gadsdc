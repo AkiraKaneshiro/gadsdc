{
 "metadata": {
  "name": "",
  "signature": "sha256:cd7cb77d649f61d65efad3e1b1c0ef69c511394254c71aa114e288bfe44d393b"
 },
 "nbformat": 3,
 "nbformat_minor": 0,
 "worksheets": [
  {
   "cells": [
    {
     "cell_type": "markdown",
     "metadata": {},
     "source": [
      "# The `sklearn` pattern"
     ]
    },
    {
     "cell_type": "code",
     "collapsed": false,
     "input": [
      "import pandas as pd"
     ],
     "language": "python",
     "metadata": {},
     "outputs": []
    },
    {
     "cell_type": "code",
     "collapsed": false,
     "input": [
      "# Example data\n",
      "data = pd.DataFrame({'score': [10, 4, 29],\n",
      "                     'comment': ['it was okay',\n",
      "                                 'it was so bad',\n",
      "                                 'it was so good']})\n",
      "data"
     ],
     "language": "python",
     "metadata": {},
     "outputs": []
    },
    {
     "cell_type": "markdown",
     "metadata": {},
     "source": [
      "## `sklearn` pattern example one"
     ]
    },
    {
     "cell_type": "code",
     "collapsed": false,
     "input": [
      "from sklearn.feature_extraction.text import CountVectorizer  # 1\n",
      "vect = CountVectorizer()                                     # 2\n",
      "vect.fit(data.comment)                                       # 3\n",
      "train_matrix = vect.transform(data.comment)                  # 4\n",
      "test_matrix = vect.transform([\"kind of good\"])               # 4\n",
      "# check vect.get_feature_names() and .toarray() for sparse matrices"
     ],
     "language": "python",
     "metadata": {},
     "outputs": []
    },
    {
     "cell_type": "code",
     "collapsed": false,
     "input": [],
     "language": "python",
     "metadata": {},
     "outputs": []
    },
    {
     "cell_type": "markdown",
     "metadata": {},
     "source": [
      "## `sklearn` pattern example two"
     ]
    },
    {
     "cell_type": "code",
     "collapsed": false,
     "input": [
      "from sklearn.linear_model import LinearRegression            # 1\n",
      "model = LinearRegression()                                   # 2\n",
      "model.fit(train_matrix, data.score)                          # 3\n",
      "model.predict(test_matrix)                                   # 4"
     ],
     "language": "python",
     "metadata": {},
     "outputs": []
    },
    {
     "cell_type": "code",
     "collapsed": false,
     "input": [],
     "language": "python",
     "metadata": {},
     "outputs": []
    }
   ],
   "metadata": {}
  }
 ]
}