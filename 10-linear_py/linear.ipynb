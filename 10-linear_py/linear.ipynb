{
 "metadata": {
  "name": "",
  "signature": "sha256:700d253d158aedc89db1bbacd804a1766dca343655684dd0a3ccd85ed42b4ab1"
 },
 "nbformat": 3,
 "nbformat_minor": 0,
 "worksheets": [
  {
   "cells": [
    {
     "cell_type": "markdown",
     "metadata": {},
     "source": [
      "## Linear regression in Python with `pandas` / `patsy` / `statsmodels` / `sklearn`\n",
      "\n",
      "Statsmodels uses Patsy to provide formula syntax similar to `R`'s.\n",
      "\n",
      "Formulas in `R` look like this:"
     ]
    },
    {
     "cell_type": "markdown",
     "metadata": {},
     "source": [
      "```\n",
      "Y ~ X1 + X2 + X3\n",
      "```"
     ]
    },
    {
     "cell_type": "markdown",
     "metadata": {},
     "source": [
      "In Python, start with data in `pandas` data frames:"
     ]
    },
    {
     "cell_type": "code",
     "collapsed": false,
     "input": [
      "import pandas as pd"
     ],
     "language": "python",
     "metadata": {},
     "outputs": []
    },
    {
     "cell_type": "code",
     "collapsed": false,
     "input": [
      "url = \"http://data.princeton.edu/wws509/datasets/salary.dat\""
     ],
     "language": "python",
     "metadata": {},
     "outputs": []
    },
    {
     "cell_type": "code",
     "collapsed": false,
     "input": [
      "data = pd.read_csv(url, sep='\\s+')"
     ],
     "language": "python",
     "metadata": {},
     "outputs": []
    },
    {
     "cell_type": "code",
     "collapsed": false,
     "input": [
      "data.head()"
     ],
     "language": "python",
     "metadata": {},
     "outputs": []
    },
    {
     "cell_type": "markdown",
     "metadata": {},
     "source": [
      "`patsy` can produce design matrices from formula specifications:"
     ]
    },
    {
     "cell_type": "code",
     "collapsed": false,
     "input": [
      "from patsy import dmatrices"
     ],
     "language": "python",
     "metadata": {},
     "outputs": []
    },
    {
     "cell_type": "code",
     "collapsed": false,
     "input": [
      "y, X = dmatrices('sl ~ sx + yr + rk', data=data, return_type='dataframe')"
     ],
     "language": "python",
     "metadata": {},
     "outputs": []
    },
    {
     "cell_type": "code",
     "collapsed": false,
     "input": [
      "y.head()"
     ],
     "language": "python",
     "metadata": {},
     "outputs": []
    },
    {
     "cell_type": "code",
     "collapsed": false,
     "input": [
      "X.head()"
     ],
     "language": "python",
     "metadata": {},
     "outputs": []
    },
    {
     "cell_type": "markdown",
     "metadata": {},
     "source": [
      "`statsmodels` includes `patsy` for model specification and provides an array of modeling techniques with output that resembles Stata's."
     ]
    },
    {
     "cell_type": "code",
     "collapsed": false,
     "input": [
      "import statsmodels.formula.api as smf"
     ],
     "language": "python",
     "metadata": {},
     "outputs": []
    },
    {
     "cell_type": "code",
     "collapsed": false,
     "input": [
      "model = smf.ols(formula=\"sl ~ yr\", data=data).fit()\n",
      "model.summary()"
     ],
     "language": "python",
     "metadata": {},
     "outputs": []
    },
    {
     "cell_type": "code",
     "collapsed": false,
     "input": [
      "model = smf.ols(formula=\"sl ~ sx + yr + rk\", data=data).fit()\n",
      "model.summary()"
     ],
     "language": "python",
     "metadata": {},
     "outputs": []
    },
    {
     "cell_type": "code",
     "collapsed": false,
     "input": [
      "model = smf.ols(formula=\"sl ~ sx + yr + rk\", data=data).fit()\n",
      "model.summary()"
     ],
     "language": "python",
     "metadata": {},
     "outputs": []
    },
    {
     "cell_type": "markdown",
     "metadata": {},
     "source": [
      "`sklearn` does not integrate `patsy`, but it offers far more modeling options. The documentation is quite good. Check out the section on [Linear Models](http://scikit-learn.org/stable/modules/linear_model.html)."
     ]
    },
    {
     "cell_type": "code",
     "collapsed": false,
     "input": [
      "from sklearn.linear_model import LinearRegression\n",
      "\n",
      "model = LinearRegression()\n",
      "model = model.fit(X,y)\n",
      "model.score(X, y)"
     ],
     "language": "python",
     "metadata": {},
     "outputs": []
    },
    {
     "cell_type": "code",
     "collapsed": false,
     "input": [
      "from sklearn.linear_model import Ridge\n",
      "\n",
      "model = Ridge(alpha = .5)\n",
      "model.fit(X, y)\n",
      "\n",
      "print model.coef_"
     ],
     "language": "python",
     "metadata": {},
     "outputs": []
    },
    {
     "cell_type": "code",
     "collapsed": false,
     "input": [
      "from sklearn.linear_model import RidgeCV\n",
      "\n",
      "model = RidgeCV(alphas=[0.01, 0.1, 1.0, 10.0])\n",
      "model.fit(X,y)\n",
      "\n",
      "print model.coef_\n",
      "print model.alpha_"
     ],
     "language": "python",
     "metadata": {},
     "outputs": []
    }
   ],
   "metadata": {}
  }
 ]
}